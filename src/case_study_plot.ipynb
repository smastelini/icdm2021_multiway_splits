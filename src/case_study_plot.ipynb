{
 "cells": [
  {
   "cell_type": "code",
   "execution_count": 1,
   "metadata": {},
   "outputs": [],
   "source": [
    "import os\n",
    "import pandas as pd\n",
    "import matplotlib.pyplot as plt"
   ]
  },
  {
   "cell_type": "code",
   "execution_count": 2,
   "metadata": {},
   "outputs": [],
   "source": [
    "sel_models = [\n",
    "    \"HTR + E-BST\",\n",
    "    \"HTR + TE-BST\",\n",
    "    \"HTR + QO$_{0.25}$\",\n",
    "    \"HTR + QO$_{1} + M$\"\n",
    "]\n",
    "\n",
    "metrics_names = {\n",
    "#     \"RMSE\": \"RMSE\",\n",
    "#     \"time_learning\": \"Learning Time (s)\",\n",
    "#     \"time_predicting\": \"Prediction time (s)\",\n",
    "#     \"memory\": \"Memory (MB)\",\n",
    "    \"height\": \"Tree Height\",\n",
    "    \"n_nodes\": \"#Nodes\",\n",
    "    \"n_branches\": \"#Decision nodes\",\n",
    "    \"n_leaves\": \"#Leaves\"\n",
    "}\n",
    "\n",
    "linestyles = [\"-.\", \":\", \"-\", \"--\"]\n",
    "colors = [\"\"]\n",
    "\n",
    "model_prettyfier = {\n",
    "    \"HTR + QO$_{0.1} + M$\": \"HTR + QO$_{0.1}^M$\",\n",
    "    \"HTR + QO$_{0.25} + M$\": \"HTR + QO$_{0.25}^M$\",\n",
    "    \"HTR + QO$_{0.5} + M$\": \"HTR + QO$_{0.5}^M$\",\n",
    "    \"HTR + QO$_{1} + M$\": \"HTR + QO$_{1}^M$\",\n",
    "}"
   ]
  },
  {
   "cell_type": "code",
   "execution_count": 3,
   "metadata": {},
   "outputs": [],
   "source": [
    "fig, ax = plt.subplots(figsize=(5, 10), nrows=4, sharex=True)\n",
    "for ls, model_name in zip(linestyles, sel_models):\n",
    "    df = pd.read_csv(f\"../output/airlines_case_study/{model_name}.csv\")\n",
    "    for i, (metricn, metricp) in enumerate(metrics_names.items()):\n",
    "        ax[i].plot(df[\"total_observed_weight\"], df[metricn], ls=ls, label=model_prettyfier.get(model_name, model_name))\n",
    "        ax[i].set_xlabel(None)\n",
    "        ax[i].set_ylabel(metricp)\n",
    "#         if i < len(metrics_names) - 1:\n",
    "#             ax[i].get_xaxis().set_visible(False)\n",
    "        ax[i].grid(True, which=\"both\", axis=\"both\")\n",
    "\n",
    "ax[-1].set_xlabel(\"Instances\")\n",
    "handles, labels = ax[-1].get_legend_handles_labels()\n",
    "fig.subplots_adjust(hspace=0.02)\n",
    "fig.legend(handles, labels, loc='upper center', ncol=2, borderaxespad=0., bbox_to_anchor=(0.5, 0.93))\n",
    "plt.savefig(f\"../output/airlines_case_study/case_study_tree_stats_grid.png\", dpi=300, bbox_inches=\"tight\")\n",
    "plt.close()"
   ]
  }
 ],
 "metadata": {
  "kernelspec": {
   "display_name": "Python 3",
   "language": "python",
   "name": "python3"
  },
  "language_info": {
   "codemirror_mode": {
    "name": "ipython",
    "version": 3
   },
   "file_extension": ".py",
   "mimetype": "text/x-python",
   "name": "python",
   "nbconvert_exporter": "python",
   "pygments_lexer": "ipython3",
   "version": "3.8.5"
  }
 },
 "nbformat": 4,
 "nbformat_minor": 4
}
