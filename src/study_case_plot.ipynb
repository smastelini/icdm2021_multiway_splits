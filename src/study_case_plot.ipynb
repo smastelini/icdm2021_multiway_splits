{
 "cells": [
  {
   "cell_type": "code",
   "execution_count": 1,
   "metadata": {},
   "outputs": [],
   "source": [
    "import os\n",
    "import pandas as pd\n",
    "import matplotlib.pyplot as plt"
   ]
  },
  {
   "cell_type": "code",
   "execution_count": 2,
   "metadata": {},
   "outputs": [],
   "source": [
    "sel_models = {\n",
    "    \"HTR + E-BST\",\n",
    "    \"HTR + TE-BST\",\n",
    "    \"HTR + QO$_{0.25}$\",\n",
    "    \"HTR + QO$_{1} + M$\"\n",
    "}\n",
    "\n",
    "metrics_names = {\n",
    "    \"RMSE\": \"RMSE\",\n",
    "    \"time_learning\": \"Learning Time (s)\",\n",
    "    \"time_predicting\": \"Prediction time (s)\",\n",
    "    \"memory\": \"Memory (MB)\",\n",
    "    \"height\": \"Tree Height\",\n",
    "    \"n_nodes\": \"Number of nodes\",\n",
    "    \"n_branches\": \"Number of decision nodes\",\n",
    "    \"n_leaves\": \"Number of leaves\"\n",
    "}\n",
    "\n",
    "linestyles = [\"-.\", \":\", \"-\", \"--\"]\n",
    "colors = [\"\"]"
   ]
  },
  {
   "cell_type": "code",
   "execution_count": 3,
   "metadata": {},
   "outputs": [],
   "source": [
    "for metricn, metricp in metrics_names.items():\n",
    "    fig, ax = plt.subplots(figsize=(10, 5))\n",
    "    for ls, model_name in zip(linestyles, sel_models):\n",
    "        df = pd.read_csv(f\"../output/airlines_study_case/{model_name}.csv\")\n",
    "        ax.plot(df[\"total_observed_weight\"], df[metricn], ls=ls, label=model_name)\n",
    "        ax.set_xlabel(\"Instances\")\n",
    "        ax.set_ylabel(metricp)\n",
    "    fig.legend()\n",
    "    plt.savefig(f\"../output/airlines_study_case/study_case_{metricn}.png\", dpi=300, bbox_inches=\"tight\")\n",
    "    plt.close()"
   ]
  }
 ],
 "metadata": {
  "kernelspec": {
   "display_name": "Python 3",
   "language": "python",
   "name": "python3"
  },
  "language_info": {
   "codemirror_mode": {
    "name": "ipython",
    "version": 3
   },
   "file_extension": ".py",
   "mimetype": "text/x-python",
   "name": "python",
   "nbconvert_exporter": "python",
   "pygments_lexer": "ipython3",
   "version": "3.8.5"
  }
 },
 "nbformat": 4,
 "nbformat_minor": 4
}
